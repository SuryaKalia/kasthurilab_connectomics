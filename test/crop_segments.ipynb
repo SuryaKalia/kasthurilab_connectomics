{
 "cells": [
  {
   "cell_type": "code",
   "execution_count": 6,
   "metadata": {},
   "outputs": [
    {
     "name": "stdout",
     "output_type": "stream",
     "text": [
      "The autoreload extension is already loaded. To reload it, use:\n",
      "  %reload_ext autoreload\n"
     ]
    }
   ],
   "source": [
    "%load_ext autoreload\n",
    "%autoreload 2\n",
    "\n",
    "import os\n",
    "import sys\n",
    "import numpy as np\n",
    "import pickle\n",
    "import lzma\n",
    "import matplotlib.pyplot as plt\n",
    "sys.path.insert(0, os.path.abspath('/home/suryakalia/documents/summer/exploration/kasthurilab_connectomics/'))\n",
    "# Need to add above path since VSCode Jupyter Notebook doesn't respect system's $PYTHONPATH variable\n",
    "# This will be eliminated once my module is converted to a conda package and installed to the conda env"
   ]
  },
  {
   "cell_type": "code",
   "execution_count": 3,
   "metadata": {},
   "outputs": [],
   "source": [
    "from sk_connectomics.core.dilate_overlap import DilateOverlap"
   ]
  },
  {
   "cell_type": "code",
   "execution_count": 4,
   "metadata": {},
   "outputs": [],
   "source": [
    "dilator = DilateOverlap(cremi_file_path=\"/home/suryakalia/documents/summer/datasets/cremi/sample_A_20160501.hdf\",\n",
    "                        output_dir=\"/scratch/midway3/suryakalia/outputs/cremi_A_crops\",\n",
    "                        dilation_voxel_count=1,\n",
    "                        voxel_volume_threshold=50)"
   ]
  },
  {
   "cell_type": "code",
   "execution_count": 5,
   "metadata": {},
   "outputs": [],
   "source": [
    "dilator.blacklist_append([20474])"
   ]
  },
  {
   "cell_type": "code",
   "execution_count": 5,
   "metadata": {},
   "outputs": [
    {
     "name": "stdout",
     "output_type": "stream",
     "text": [
      "Z layer num: 0\n",
      "Z layer num: 1\n",
      "Z layer num: 2\n",
      "Z layer num: 3\n",
      "Z layer num: 4\n",
      "Z layer num: 5\n",
      "Z layer num: 6\n",
      "Z layer num: 7\n",
      "Z layer num: 8\n",
      "Z layer num: 9\n",
      "Trimming invalid segments\n",
      "Cropping out bounding boxes\n",
      "Successfully created  1129  segment corps\n"
     ]
    }
   ],
   "source": [
    "dilator.run()"
   ]
  },
  {
   "cell_type": "code",
   "execution_count": 13,
   "metadata": {},
   "outputs": [
    {
     "name": "stdout",
     "output_type": "stream",
     "text": [
      "Trimming invalid segments\n"
     ]
    },
    {
     "ename": "KeyError",
     "evalue": "885",
     "output_type": "error",
     "traceback": [
      "\u001b[0;31m---------------------------------------------------------------------------\u001b[0m",
      "\u001b[0;31mKeyError\u001b[0m                                  Traceback (most recent call last)",
      "Cell \u001b[0;32mIn[13], line 1\u001b[0m\n\u001b[0;32m----> 1\u001b[0m dilator\u001b[39m.\u001b[39;49mtrim_invalid_segments()\n",
      "File \u001b[0;32m~/documents/summer/exploration/kasthurilab_connectomics/sk_connectomics/core/dilate_overlap.py:87\u001b[0m, in \u001b[0;36mDilateOverlap.trim_invalid_segments\u001b[0;34m(self)\u001b[0m\n\u001b[1;32m     85\u001b[0m \u001b[39mif\u001b[39;00m (\u001b[39mself\u001b[39m\u001b[39m.\u001b[39msegment_volume_map[segmentID] \u001b[39m<\u001b[39m \u001b[39mself\u001b[39m\u001b[39m.\u001b[39mvoxel_volume_threshold):\n\u001b[1;32m     86\u001b[0m   \u001b[39mdel\u001b[39;00m \u001b[39mself\u001b[39m\u001b[39m.\u001b[39msegment_volume_map[segmentID] \n\u001b[0;32m---> 87\u001b[0m   \u001b[39mdel\u001b[39;00m \u001b[39mself\u001b[39m\u001b[39m.\u001b[39mminCoordMap[segmentID]\n\u001b[1;32m     88\u001b[0m   \u001b[39mdel\u001b[39;00m \u001b[39mself\u001b[39m\u001b[39m.\u001b[39mmaxCoordMap[segmentID]\n",
      "\u001b[0;31mKeyError\u001b[0m: 885"
     ]
    }
   ],
   "source": [
    "dilator.trim_invalid_segments()"
   ]
  },
  {
   "cell_type": "code",
   "execution_count": null,
   "metadata": {},
   "outputs": [],
   "source": [
    "dilator.crop_out_bounding_boxes()"
   ]
  },
  {
   "cell_type": "code",
   "execution_count": 10,
   "metadata": {},
   "outputs": [
    {
     "data": {
      "text/plain": [
       "[20474]"
      ]
     },
     "execution_count": 10,
     "metadata": {},
     "output_type": "execute_result"
    }
   ],
   "source": [
    "dilator.segment_black_list"
   ]
  },
  {
   "cell_type": "code",
   "execution_count": 12,
   "metadata": {},
   "outputs": [
    {
     "data": {
      "text/plain": [
       "49"
      ]
     },
     "execution_count": 12,
     "metadata": {},
     "output_type": "execute_result"
    }
   ],
   "source": [
    "dilator.segment_volume_map[136939]"
   ]
  },
  {
   "cell_type": "code",
   "execution_count": 14,
   "metadata": {},
   "outputs": [],
   "source": [
    "with lzma.open(\"/scratch/midway3/suryakalia/outputs/cremi_A_crops/crops/1128_187690.xz\", \"rb\") as f:\n",
    "  mask = pickle.load(f)"
   ]
  },
  {
   "cell_type": "code",
   "execution_count": 15,
   "metadata": {},
   "outputs": [
    {
     "data": {
      "text/plain": [
       "(3, 11, 10)"
      ]
     },
     "execution_count": 15,
     "metadata": {},
     "output_type": "execute_result"
    }
   ],
   "source": [
    "mask.shape"
   ]
  },
  {
   "cell_type": "code",
   "execution_count": 16,
   "metadata": {},
   "outputs": [
    {
     "name": "stdout",
     "output_type": "stream",
     "text": [
      "[[0 1 1 1 1 0 0 0 0 0]\n",
      " [1 1 1 1 1 1 0 0 0 0]\n",
      " [1 1 1 1 1 1 1 1 0 0]\n",
      " [0 1 1 1 1 1 1 1 1 0]\n",
      " [0 1 1 1 1 1 1 1 1 1]\n",
      " [0 1 1 1 1 1 1 1 1 1]\n",
      " [0 1 1 1 1 1 1 1 1 1]\n",
      " [0 1 1 1 1 1 1 1 1 0]\n",
      " [0 1 1 1 1 1 1 1 0 0]\n",
      " [0 1 1 1 1 1 1 0 0 0]\n",
      " [0 0 1 1 1 0 0 0 0 0]]\n"
     ]
    }
   ],
   "source": [
    "print(mask[1,:, :])"
   ]
  },
  {
   "cell_type": "code",
   "execution_count": 9,
   "metadata": {},
   "outputs": [],
   "source": [
    "from scipy import ndimage"
   ]
  },
  {
   "cell_type": "code",
   "execution_count": 13,
   "metadata": {},
   "outputs": [
    {
     "name": "stdout",
     "output_type": "stream",
     "text": [
      "[[0 0 0 0 0 0 0 0 0 0]\n",
      " [0 1 1 1 1 0 0 0 0 0]\n",
      " [0 1 1 1 1 1 0 0 0 0]\n",
      " [0 0 1 1 1 1 1 1 0 0]\n",
      " [0 0 1 1 1 1 1 1 1 0]\n",
      " [0 0 1 1 1 1 1 1 1 0]\n",
      " [0 0 1 1 1 1 1 1 1 0]\n",
      " [0 0 1 1 1 1 1 1 0 0]\n",
      " [0 0 1 1 1 1 1 0 0 0]\n",
      " [0 0 1 1 1 0 0 0 0 0]\n",
      " [0 0 0 0 0 0 0 0 0 0]]\n"
     ]
    }
   ],
   "source": [
    "dilated_mask = ndimage.binary_dilation(mask).astype(mask.dtype)\n",
    "print(dilated_mask[0,:,:])"
   ]
  },
  {
   "cell_type": "code",
   "execution_count": 9,
   "metadata": {},
   "outputs": [
    {
     "name": "stdout",
     "output_type": "stream",
     "text": [
      "Number of crops read =  8795\n",
      "Calculating segment overlaps\n"
     ]
    },
    {
     "name": "stderr",
     "output_type": "stream",
     "text": [
      "  0%|          | 0/8794 [00:00<?, ?it/s]"
     ]
    },
    {
     "name": "stderr",
     "output_type": "stream",
     "text": [
      "  0%|          | 0/8794 [00:22<?, ?it/s]\n"
     ]
    },
    {
     "ename": "KeyboardInterrupt",
     "evalue": "",
     "output_type": "error",
     "traceback": [
      "\u001b[0;31m---------------------------------------------------------------------------\u001b[0m",
      "\u001b[0;31mKeyboardInterrupt\u001b[0m                         Traceback (most recent call last)",
      "Cell \u001b[0;32mIn[9], line 1\u001b[0m\n\u001b[0;32m----> 1\u001b[0m dilator\u001b[39m.\u001b[39;49moverlap_segments()\n",
      "File \u001b[0;32m~/documents/summer/exploration/kasthurilab_connectomics/sk_connectomics/core/dilate_overlap.py:201\u001b[0m, in \u001b[0;36mDilateOverlap.overlap_segments\u001b[0;34m(self)\u001b[0m\n\u001b[1;32m    199\u001b[0m \u001b[39m# Save overlapped image mask. It is reduced to uint8 since we just have a bitmask at this stage\u001b[39;00m\n\u001b[1;32m    200\u001b[0m \u001b[39mwith\u001b[39;00m lzma\u001b[39m.\u001b[39mopen(\u001b[39mself\u001b[39m\u001b[39m.\u001b[39moutput_dir \u001b[39m+\u001b[39m \u001b[39m\"\u001b[39m\u001b[39m/overlaps/\u001b[39m\u001b[39m\"\u001b[39m \u001b[39m+\u001b[39m \u001b[39mstr\u001b[39m(crop_list[i][\u001b[39m0\u001b[39m]) \u001b[39m+\u001b[39m \u001b[39m\"\u001b[39m\u001b[39m_\u001b[39m\u001b[39m\"\u001b[39m \u001b[39m+\u001b[39m \u001b[39mstr\u001b[39m(crop_list[j][\u001b[39m0\u001b[39m]) \u001b[39m+\u001b[39m \u001b[39m\"\u001b[39m\u001b[39m.xz\u001b[39m\u001b[39m\"\u001b[39m, \u001b[39m\"\u001b[39m\u001b[39mwb\u001b[39m\u001b[39m\"\u001b[39m) \u001b[39mas\u001b[39;00m f:\n\u001b[0;32m--> 201\u001b[0m   pickle\u001b[39m.\u001b[39;49mdump(overlap_img, f)\n\u001b[1;32m    203\u001b[0m \u001b[39m# Save metadata of overlap IDs, volume and coordinated\u001b[39;00m\n\u001b[1;32m    204\u001b[0m data \u001b[39m=\u001b[39m [crop_list[i][\u001b[39m0\u001b[39m], crop_list[j][\u001b[39m0\u001b[39m], overlap_img\u001b[39m.\u001b[39msum(), min_coord_ij\u001b[39m.\u001b[39mx, min_coord_ij\u001b[39m.\u001b[39my, min_coord_ij\u001b[39m.\u001b[39mz, max_coord_ij\u001b[39m.\u001b[39mx, max_coord_ij\u001b[39m.\u001b[39my, max_coord_ij\u001b[39m.\u001b[39mz]\n",
      "File \u001b[0;32m~/.conda/envs/gpu_torch/lib/python3.8/lzma.py:232\u001b[0m, in \u001b[0;36mLZMAFile.write\u001b[0;34m(self, data)\u001b[0m\n\u001b[1;32m    225\u001b[0m \u001b[39m\u001b[39m\u001b[39m\"\"\"Write a bytes object to the file.\u001b[39;00m\n\u001b[1;32m    226\u001b[0m \n\u001b[1;32m    227\u001b[0m \u001b[39mReturns the number of uncompressed bytes written, which is\u001b[39;00m\n\u001b[1;32m    228\u001b[0m \u001b[39malways len(data). Note that due to buffering, the file on disk\u001b[39;00m\n\u001b[1;32m    229\u001b[0m \u001b[39mmay not reflect the data written until close() is called.\u001b[39;00m\n\u001b[1;32m    230\u001b[0m \u001b[39m\"\"\"\u001b[39;00m\n\u001b[1;32m    231\u001b[0m \u001b[39mself\u001b[39m\u001b[39m.\u001b[39m_check_can_write()\n\u001b[0;32m--> 232\u001b[0m compressed \u001b[39m=\u001b[39m \u001b[39mself\u001b[39;49m\u001b[39m.\u001b[39;49m_compressor\u001b[39m.\u001b[39;49mcompress(data)\n\u001b[1;32m    233\u001b[0m \u001b[39mself\u001b[39m\u001b[39m.\u001b[39m_fp\u001b[39m.\u001b[39mwrite(compressed)\n\u001b[1;32m    234\u001b[0m \u001b[39mself\u001b[39m\u001b[39m.\u001b[39m_pos \u001b[39m+\u001b[39m\u001b[39m=\u001b[39m \u001b[39mlen\u001b[39m(data)\n",
      "\u001b[0;31mKeyboardInterrupt\u001b[0m: "
     ]
    }
   ],
   "source": [
    "dilator.overlap_segments()"
   ]
  },
  {
   "cell_type": "code",
   "execution_count": 15,
   "metadata": {},
   "outputs": [],
   "source": [
    "with lzma.open(\"/scratch/midway3/suryakalia/outputs/cremi_A_crops/overlaps/3865_10338.xz\", \"rb\") as f:\n",
    "  overlap_crop = pickle.load(f)"
   ]
  },
  {
   "cell_type": "code",
   "execution_count": 16,
   "metadata": {},
   "outputs": [
    {
     "data": {
      "text/plain": [
       "(125, 180, 158)"
      ]
     },
     "execution_count": 16,
     "metadata": {},
     "output_type": "execute_result"
    }
   ],
   "source": [
    "overlap_crop.shape"
   ]
  },
  {
   "cell_type": "code",
   "execution_count": 21,
   "metadata": {},
   "outputs": [
    {
     "data": {
      "text/plain": [
       "<matplotlib.image.AxesImage at 0x7f9465d98d00>"
      ]
     },
     "execution_count": 21,
     "metadata": {},
     "output_type": "execute_result"
    },
    {
     "data": {
      "image/png": "[encoded data removed]",
      "text/plain": [
       "<Figure size 640x480 with 1 Axes>"
      ]
     },
     "metadata": {},
     "output_type": "display_data"
    }
   ],
   "source": [
    "plt.imshow(overlap_crop[100,:,:])"
   ]
  },
  {
   "cell_type": "code",
   "execution_count": 18,
   "metadata": {},
   "outputs": [],
   "source": [
    "with lzma.open(\"/scratch/midway3/suryakalia/outputs/cremi_A_crops/overlap_img_combined.xz\", \"rb\") as f:\n",
    "  overlap_common = pickle.load(f)"
   ]
  },
  {
   "cell_type": "code",
   "execution_count": 19,
   "metadata": {},
   "outputs": [
    {
     "data": {
      "text/plain": [
       "(125, 1250, 1250)"
      ]
     },
     "execution_count": 19,
     "metadata": {},
     "output_type": "execute_result"
    }
   ],
   "source": [
    "overlap_common.shape"
   ]
  },
  {
   "cell_type": "code",
   "execution_count": 22,
   "metadata": {},
   "outputs": [
    {
     "data": {
      "text/plain": [
       "<matplotlib.image.AxesImage at 0x7f9465d23d00>"
      ]
     },
     "execution_count": 22,
     "metadata": {},
     "output_type": "execute_result"
    },
    {
     "data": {
      "image/png": "[encoded data removed]",
      "text/plain": [
       "<Figure size 640x480 with 1 Axes>"
      ]
     },
     "metadata": {},
     "output_type": "display_data"
    }
   ],
   "source": [
    "plt.imshow(overlap_common[100,:,:])"
   ]
  },
  {
   "cell_type": "code",
   "execution_count": 23,
   "metadata": {},
   "outputs": [
    {
     "data": {
      "text/plain": [
       "<matplotlib.image.AxesImage at 0x7f9465ca0880>"
      ]
     },
     "execution_count": 23,
     "metadata": {},
     "output_type": "execute_result"
    },
    {
     "data": {
      "image/png": "[encoded data removed]",
      "text/plain": [
       "<Figure size 640x480 with 1 Axes>"
      ]
     },
     "metadata": {},
     "output_type": "display_data"
    }
   ],
   "source": [
    "plt.imshow(overlap_common[100,902:1081,223:380])"
   ]
  },
  {
   "cell_type": "code",
   "execution_count": null,
   "metadata": {},
   "outputs": [],
   "source": []
  }
 ],
 "metadata": {
  "kernelspec": {
   "display_name": "gpu_torch",
   "language": "python",
   "name": "python3"
  },
  "language_info": {
   "codemirror_mode": {
    "name": "ipython",
    "version": 3
   },
   "file_extension": ".py",
   "mimetype": "text/x-python",
   "name": "python",
   "nbconvert_exporter": "python",
   "pygments_lexer": "ipython3",
   "version": "3.8.16"
  },
  "orig_nbformat": 4
 },
 "nbformat": 4,
 "nbformat_minor": 2
}
