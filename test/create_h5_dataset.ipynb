{
 "cells": [
  {
   "cell_type": "code",
   "execution_count": 1,
   "metadata": {},
   "outputs": [],
   "source": [
    "import h5py\n",
    "import numpy as np\n",
    "import tifffile\n",
    "from skimage import io\n",
    "import lzma\n",
    "import pickle"
   ]
  },
  {
   "cell_type": "code",
   "execution_count": 5,
   "metadata": {},
   "outputs": [],
   "source": [
    "# hf = h5py.File('/home/suryakalia/documents/summer/tests/hanyu_analysis/p105.h5', 'w')\n",
    "hf = h5py.File('/home/suryakalia/documents/summer/datasets/cremi_clean/clean_sample_A.h5', 'w')\n"
   ]
  },
  {
   "cell_type": "code",
   "execution_count": 6,
   "metadata": {},
   "outputs": [],
   "source": [
    "g_labels = hf.create_group('volumes/labels')\n",
    "\n"
   ]
  },
  {
   "cell_type": "code",
   "execution_count": 7,
   "metadata": {},
   "outputs": [
    {
     "name": "stdout",
     "output_type": "stream",
     "text": [
      "(125, 1250, 1250)\n"
     ]
    }
   ],
   "source": [
    "# Load connected synapse data from tiff file (already z, y, x)\n",
    "# img_synapse = io.imread(\"/home/suryakalia/documents/summer/tests/hanyu_analysis/synapse_connected.tiff\")\n",
    "\n",
    "with lzma.open(\"/home/suryakalia/documents/summer/datasets/cremi_clean/clean_clefts.xz\", \"rb\") as f:\n",
    "          img_synapse = pickle.load(f)\n",
    "print(img_synapse.shape)"
   ]
  },
  {
   "cell_type": "code",
   "execution_count": 8,
   "metadata": {},
   "outputs": [
    {
     "name": "stdout",
     "output_type": "stream",
     "text": [
      "(125, 1250, 1250)\n"
     ]
    }
   ],
   "source": [
    "# Load segmentation data from tiff/xz file (In x, y, z format from neuroglancer)\n",
    "# img_segmentation = io.imread(\"/scratch/midway3/suryakalia/datasets/hanyu/p105/segmentation.tiff\")\n",
    "\n",
    "with lzma.open(\"/home/suryakalia/documents/summer/datasets/cremi_clean/clean_neuron_ids.xz\", \"rb\") as f:\n",
    "          img_segmentation = pickle.load(f)\n",
    "\n",
    "print(img_segmentation.shape)"
   ]
  },
  {
   "cell_type": "code",
   "execution_count": 9,
   "metadata": {},
   "outputs": [
    {
     "name": "stdout",
     "output_type": "stream",
     "text": [
      "(100, 1000, 1000)\n"
     ]
    }
   ],
   "source": [
    "# Reorder dimensions for segmentation\n",
    "img_segmentation = np.transpose(img_segmentation, [2, 1, 0])\n",
    "print(img_segmentation.shape)"
   ]
  },
  {
   "cell_type": "code",
   "execution_count": 9,
   "metadata": {},
   "outputs": [
    {
     "data": {
      "text/plain": [
       "<HDF5 dataset \"neuron_ids\": shape (125, 1250, 1250), type \"<u4\">"
      ]
     },
     "execution_count": 9,
     "metadata": {},
     "output_type": "execute_result"
    }
   ],
   "source": [
    "# Load datasets into hdf5 groups\n",
    "g_labels.create_dataset('clefts',data=img_synapse)\n",
    "g_labels.create_dataset('neuron_ids',data=img_segmentation)"
   ]
  },
  {
   "cell_type": "code",
   "execution_count": 20,
   "metadata": {},
   "outputs": [],
   "source": [
    "hf.close()"
   ]
  },
  {
   "cell_type": "code",
   "execution_count": null,
   "metadata": {},
   "outputs": [],
   "source": []
  }
 ],
 "metadata": {
  "kernelspec": {
   "display_name": "gpu_torch",
   "language": "python",
   "name": "python3"
  },
  "language_info": {
   "codemirror_mode": {
    "name": "ipython",
    "version": 3
   },
   "file_extension": ".py",
   "mimetype": "text/x-python",
   "name": "python",
   "nbconvert_exporter": "python",
   "pygments_lexer": "ipython3",
   "version": "3.8.16"
  },
  "orig_nbformat": 4
 },
 "nbformat": 4,
 "nbformat_minor": 2
}
