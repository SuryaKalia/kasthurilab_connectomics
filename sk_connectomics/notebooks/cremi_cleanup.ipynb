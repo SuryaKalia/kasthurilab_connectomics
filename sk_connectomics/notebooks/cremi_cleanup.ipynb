{
 "cells": [
  {
   "cell_type": "code",
   "execution_count": 1,
   "metadata": {},
   "outputs": [],
   "source": [
    "%load_ext autoreload\n",
    "%autoreload 2\n",
    "\n",
    "import os\n",
    "import sys\n",
    "import numpy as np\n",
    "import pickle\n",
    "import lzma\n",
    "import matplotlib.pyplot as plt\n",
    "import csv\n",
    "import h5py\n",
    "from tqdm import tqdm\n",
    "import multiprocessing\n",
    "from scipy.ndimage import label, generate_binary_structure\n",
    "sys.path.insert(0, os.path.abspath('/home/suryakalia/documents/summer/exploration/kasthurilab_connectomics/'))\n",
    "# Need to add above path since VSCode Jupyter Notebook doesn't respect system's $PYTHONPATH variable\n",
    "# This will be eliminated once my module is converted to a conda package and installed to the conda env\n",
    "\n",
    "from sk_connectomics.util.visualize import *"
   ]
  },
  {
   "cell_type": "code",
   "execution_count": 2,
   "metadata": {},
   "outputs": [],
   "source": [
    "f = h5py.File(\"/home/suryakalia/documents/summer/datasets/cremi/sample_A_20160501.hdf\", 'r')\n",
    "neuron_ids = np.array(f[\"volumes/labels/neuron_ids\"])\n",
    "clefts = np.array(f[\"volumes/labels/clefts\"])\n"
   ]
  },
  {
   "cell_type": "code",
   "execution_count": 18,
   "metadata": {},
   "outputs": [],
   "source": [
    "def process_segment(img, segment_id, segment_volume, min_fraction_to_split, max_label):\n",
    "  binary_mask = np.where(img == segment_id , 1, 0).astype(np.uint8)\n",
    "  # 26-neighbor connectivity in 3D\n",
    "  labeled_mask, num_features = label(binary_mask, structure=np.ones((3,3,3)))\n",
    "  if (not num_features == 1):\n",
    "    # Multiple components found. Check for splits/patches\n",
    "    print(\"Incorrect segmentation detected for segment id =\", segment_id, \"volume = \", segment_volume, \"num_features =\", num_features)\n",
    "    (unique, counts) = np.unique(labeled_mask, return_counts=True)\n",
    "    segment_volume_map = dict(zip(unique, counts))\n",
    "    sorted_segment_volume_map = dict(sorted(segment_volume_map.items(), key=lambda item: item[1], reverse = True))\n",
    "    largest = True\n",
    "    for id, vol in sorted_segment_volume_map.items():\n",
    "      if id == 0:\n",
    "        continue\n",
    "      if largest:\n",
    "        # Set original segment_id to the largest component\n",
    "        labeled_mask = np.where(labeled_mask == id, segment_id, labeled_mask)\n",
    "        largest = False\n",
    "      else:\n",
    "        # Check if segment constitutes a significant fraction of the parent segment\n",
    "        if vol/segment_volume >= min_fraction_to_split :\n",
    "          # Got a valid segment. Provide a new label\n",
    "          max_label += 1\n",
    "          print(\"Found a split in segmentation. New split segment_id, vol = \", max_label, \",\", vol, \"volume ratio = \", vol/segment_volume)\n",
    "          labeled_mask = np.where(labeled_mask == id, max_label, labeled_mask)\n",
    "        else:\n",
    "          # Got a small splinter. Eliminate segment\n",
    "          print(\"Eliminated splinter of size ratio: \", vol/segment_volume)\n",
    "          labeled_mask = np.where(labeled_mask == id, 0, labeled_mask)\n",
    "    \n",
    "    return labeled_mask, max_label\n",
    "\n",
    "  else:\n",
    "    # Correct segmentation. All part of one connected component\n",
    "    mask = segment_id * binary_mask\n",
    "    return mask, max_label\n",
    "\n",
    "def cleanup_segmentation_image(img, vol_threshold, min_fraction_to_split):\n",
    "  clean_img = np.zeros(img.shape)\n",
    "  # Eliminate any background pixels\n",
    "  img = np.where(img==(2**64 - 1), 0, img)\n",
    "  # Track current max label for creating new labels if needed\n",
    "  max_label = np.max(img)\n",
    "  (unique, counts) = np.unique(img, return_counts=True)\n",
    "  for i in tqdm(range(len(unique))):\n",
    "    # Ignore background segments. Can be splintered\n",
    "    if (unique[i] == 0):\n",
    "      continue\n",
    "    # Process segment only if above threshold\n",
    "    if (counts[i] >= vol_threshold):\n",
    "      mask, max_label = process_segment(img, unique[i], counts[i], min_fraction_to_split, max_label)\n",
    "      clean_img += mask\n",
    "      \n",
    "      \n",
    "  \n",
    "  return clean_img"
   ]
  },
  {
   "cell_type": "code",
   "execution_count": 15,
   "metadata": {},
   "outputs": [
    {
     "name": "stderr",
     "output_type": "stream",
     "text": [
      "  0%|          | 0/124 [00:00<?, ?it/s]"
     ]
    },
    {
     "name": "stdout",
     "output_type": "stream",
     "text": [
      "Incorrect segmentation detected for segment id =  604  volume =  4046  num_features =  2\n",
      "Found a split in segmentation. New split segment_id, vol =  885.0  ,  2619  volume ratio =  0.6473059812160158\n",
      "Found a split in segmentation. New split segment_id, vol =  886.0  ,  1427  volume ratio =  0.3526940187839842\n"
     ]
    },
    {
     "name": "stderr",
     "output_type": "stream",
     "text": [
      " 10%|█         | 13/124 [00:39<04:31,  2.44s/it]"
     ]
    },
    {
     "name": "stdout",
     "output_type": "stream",
     "text": [
      "Incorrect segmentation detected for segment id =  754  volume =  3133  num_features =  2\n",
      "Found a split in segmentation. New split segment_id, vol =  887.0  ,  3132  volume ratio =  0.999680817108203\n",
      "Eliminated splinter of size ratio:  0.0003191828917969997\n"
     ]
    },
    {
     "name": "stderr",
     "output_type": "stream",
     "text": [
      " 22%|██▏       | 27/124 [01:22<04:01,  2.49s/it]"
     ]
    },
    {
     "name": "stdout",
     "output_type": "stream",
     "text": [
      "Incorrect segmentation detected for segment id =  769  volume =  5576  num_features =  3\n",
      "Found a split in segmentation. New split segment_id, vol =  888.0  ,  5572  volume ratio =  0.9992826398852224\n",
      "Eliminated splinter of size ratio:  0.0003586800573888092\n",
      "Eliminated splinter of size ratio:  0.0003586800573888092\n"
     ]
    },
    {
     "name": "stderr",
     "output_type": "stream",
     "text": [
      " 27%|██▋       | 33/124 [01:46<04:23,  2.89s/it]"
     ]
    },
    {
     "name": "stdout",
     "output_type": "stream",
     "text": [
      "Incorrect segmentation detected for segment id =  775  volume =  5686  num_features =  2\n",
      "Found a split in segmentation. New split segment_id, vol =  889.0  ,  5685  volume ratio =  0.9998241294407316\n",
      "Eliminated splinter of size ratio:  0.00017587055926837847\n"
     ]
    },
    {
     "name": "stderr",
     "output_type": "stream",
     "text": [
      " 34%|███▍      | 42/124 [02:15<03:30,  2.56s/it]"
     ]
    },
    {
     "name": "stdout",
     "output_type": "stream",
     "text": [
      "Incorrect segmentation detected for segment id =  786  volume =  6405  num_features =  3\n",
      "Found a split in segmentation. New split segment_id, vol =  890.0  ,  2940  volume ratio =  0.45901639344262296\n",
      "Found a split in segmentation. New split segment_id, vol =  891.0  ,  2431  volume ratio =  0.3795472287275566\n",
      "Found a split in segmentation. New split segment_id, vol =  892.0  ,  1034  volume ratio =  0.16143637782982045\n"
     ]
    },
    {
     "name": "stderr",
     "output_type": "stream",
     "text": [
      " 56%|█████▋    | 70/124 [03:34<02:14,  2.49s/it]"
     ]
    },
    {
     "name": "stdout",
     "output_type": "stream",
     "text": [
      "Incorrect segmentation detected for segment id =  818  volume =  1529  num_features =  2\n",
      "Found a split in segmentation. New split segment_id, vol =  893.0  ,  1528  volume ratio =  0.999345977763244\n",
      "Eliminated splinter of size ratio:  0.0006540222367560497\n"
     ]
    },
    {
     "name": "stderr",
     "output_type": "stream",
     "text": [
      " 62%|██████▏   | 77/124 [04:00<02:12,  2.81s/it]"
     ]
    },
    {
     "name": "stdout",
     "output_type": "stream",
     "text": [
      "Incorrect segmentation detected for segment id =  825  volume =  5322  num_features =  2\n",
      "Found a split in segmentation. New split segment_id, vol =  894.0  ,  5317  volume ratio =  0.9990605035700865\n",
      "Eliminated splinter of size ratio:  0.0009394964299135663\n"
     ]
    },
    {
     "name": "stderr",
     "output_type": "stream",
     "text": [
      " 86%|████████▋ | 107/124 [05:23<00:40,  2.37s/it]"
     ]
    },
    {
     "name": "stdout",
     "output_type": "stream",
     "text": [
      "Incorrect segmentation detected for segment id =  857  volume =  1858  num_features =  2\n",
      "Found a split in segmentation. New split segment_id, vol =  895.0  ,  1179  volume ratio =  0.6345532831001076\n",
      "Found a split in segmentation. New split segment_id, vol =  896.0  ,  679  volume ratio =  0.36544671689989233\n"
     ]
    },
    {
     "name": "stderr",
     "output_type": "stream",
     "text": [
      " 87%|████████▋ | 108/124 [05:34<01:17,  4.85s/it]"
     ]
    },
    {
     "name": "stdout",
     "output_type": "stream",
     "text": [
      "Incorrect segmentation detected for segment id =  858  volume =  4785  num_features =  7\n",
      "Found a split in segmentation. New split segment_id, vol =  897.0  ,  4760  volume ratio =  0.9947753396029259\n",
      "Eliminated splinter of size ratio:  0.0014629049111807733\n",
      "Eliminated splinter of size ratio:  0.0012539184952978057\n",
      "Eliminated splinter of size ratio:  0.0010449320794148381\n",
      "Eliminated splinter of size ratio:  0.0008359456635318704\n",
      "Eliminated splinter of size ratio:  0.0004179728317659352\n",
      "Eliminated splinter of size ratio:  0.0002089864158829676\n"
     ]
    },
    {
     "name": "stderr",
     "output_type": "stream",
     "text": [
      " 98%|█████████▊| 122/124 [06:19<00:04,  2.39s/it]"
     ]
    },
    {
     "name": "stdout",
     "output_type": "stream",
     "text": [
      "Incorrect segmentation detected for segment id =  881  volume =  5903  num_features =  2\n",
      "Found a split in segmentation. New split segment_id, vol =  898.0  ,  5902  volume ratio =  0.9998305946129087\n",
      "Eliminated splinter of size ratio:  0.0001694053870913095\n"
     ]
    },
    {
     "name": "stderr",
     "output_type": "stream",
     "text": [
      "100%|██████████| 124/124 [06:32<00:00,  3.16s/it]\n"
     ]
    }
   ],
   "source": [
    "clean_clefts = cleanup_segmentation_image(clefts, 100, 0.1)"
   ]
  },
  {
   "cell_type": "code",
   "execution_count": 22,
   "metadata": {},
   "outputs": [
    {
     "data": {
      "text/plain": [
       "884"
      ]
     },
     "execution_count": 22,
     "metadata": {},
     "output_type": "execute_result"
    }
   ],
   "source": [
    "(unique, counts) = np.unique(clefts, return_counts=True)\n",
    "np.partition(unique, -2)[-2]"
   ]
  },
  {
   "cell_type": "code",
   "execution_count": 24,
   "metadata": {},
   "outputs": [
    {
     "data": {
      "text/plain": [
       "<matplotlib.image.AxesImage at 0x7fc1e724b8e0>"
      ]
     },
     "execution_count": 24,
     "metadata": {},
     "output_type": "execute_result"
    },
    {
     "data": {
      "image/png": "[encoded data removed]",
      "text/plain": [
       "<Figure size 640x480 with 1 Axes>"
      ]
     },
     "metadata": {},
     "output_type": "display_data"
    }
   ],
   "source": [
    "plt.imshow(clean_clefts[0])"
   ]
  },
  {
   "cell_type": "code",
   "execution_count": 25,
   "metadata": {},
   "outputs": [],
   "source": [
    "with lzma.open(\"/home/suryakalia/documents/summer/datasets/cremi_clean/\" + \"clean_clefts.xz\", \"wb\") as f:\n",
    "  pickle.dump(clean_clefts, f)\n",
    "          "
   ]
  },
  {
   "cell_type": "code",
   "execution_count": 26,
   "metadata": {},
   "outputs": [
    {
     "name": "stderr",
     "output_type": "stream",
     "text": [
      "  0%|          | 8/37366 [00:18<24:06:31,  2.32s/it]"
     ]
    },
    {
     "name": "stdout",
     "output_type": "stream",
     "text": [
      "Incorrect segmentation detected for segment id =  1039  volume =  736087  num_features =  2\n",
      "Found a split in segmentation. New split segment_id, vol =  191979.0  ,  736082  volume ratio =  0.9999932073246777\n",
      "Eliminated splinter of size ratio:  6.792675322346407e-06\n"
     ]
    },
    {
     "name": "stderr",
     "output_type": "stream",
     "text": [
      "  0%|          | 9/37366 [00:28<50:45:04,  4.89s/it]"
     ]
    },
    {
     "name": "stdout",
     "output_type": "stream",
     "text": [
      "Incorrect segmentation detected for segment id =  1052  volume =  834409  num_features =  2\n",
      "Found a split in segmentation. New split segment_id, vol =  191980.0  ,  834408  volume ratio =  0.9999988015469632\n",
      "Eliminated splinter of size ratio:  1.1984530368200727e-06\n"
     ]
    },
    {
     "name": "stderr",
     "output_type": "stream",
     "text": [
      "  0%|          | 10/37366 [00:39<68:17:50,  6.58s/it]"
     ]
    },
    {
     "name": "stdout",
     "output_type": "stream",
     "text": [
      "Incorrect segmentation detected for segment id =  1067  volume =  214661  num_features =  2\n",
      "Found a split in segmentation. New split segment_id, vol =  191981.0  ,  136434  volume ratio =  0.6355788895048472\n",
      "Found a split in segmentation. New split segment_id, vol =  191982.0  ,  78227  volume ratio =  0.3644211104951528\n"
     ]
    },
    {
     "name": "stderr",
     "output_type": "stream",
     "text": [
      "  0%|          | 23/37366 [01:19<35:45:41,  3.45s/it]\n"
     ]
    },
    {
     "ename": "KeyboardInterrupt",
     "evalue": "",
     "output_type": "error",
     "traceback": [
      "\u001b[0;31m---------------------------------------------------------------------------\u001b[0m",
      "\u001b[0;31mKeyboardInterrupt\u001b[0m                         Traceback (most recent call last)",
      "Cell \u001b[0;32mIn[26], line 1\u001b[0m\n\u001b[0;32m----> 1\u001b[0m clean_neuron_ids \u001b[39m=\u001b[39m cleanup_segmentation_image(neuron_ids, \u001b[39m100\u001b[39;49m, \u001b[39m0.1\u001b[39;49m)\n",
      "Cell \u001b[0;32mIn[14], line 49\u001b[0m, in \u001b[0;36mcleanup_segmentation_image\u001b[0;34m(img, vol_threshold, min_fraction_to_split)\u001b[0m\n\u001b[1;32m     47\u001b[0m   \u001b[39m# Process segment only if above threshold\u001b[39;00m\n\u001b[1;32m     48\u001b[0m   \u001b[39mif\u001b[39;00m (counts[i] \u001b[39m>\u001b[39m\u001b[39m=\u001b[39m vol_threshold):\n\u001b[0;32m---> 49\u001b[0m     mask, max_label \u001b[39m=\u001b[39m process_segment(img, unique[i], counts[i], min_fraction_to_split, max_label)\n\u001b[1;32m     50\u001b[0m     clean_img \u001b[39m+\u001b[39m\u001b[39m=\u001b[39m mask\n\u001b[1;32m     54\u001b[0m \u001b[39mreturn\u001b[39;00m img\n",
      "Cell \u001b[0;32mIn[14], line 4\u001b[0m, in \u001b[0;36mprocess_segment\u001b[0;34m(img, segment_id, segment_volume, min_fraction_to_split, max_label)\u001b[0m\n\u001b[1;32m      2\u001b[0m binary_mask \u001b[39m=\u001b[39m np\u001b[39m.\u001b[39mwhere(img \u001b[39m==\u001b[39m segment_id , \u001b[39m1\u001b[39m, \u001b[39m0\u001b[39m)\u001b[39m.\u001b[39mastype(np\u001b[39m.\u001b[39muint8)\n\u001b[1;32m      3\u001b[0m \u001b[39m# 26-neighbor connectivity in 3D\u001b[39;00m\n\u001b[0;32m----> 4\u001b[0m labeled_mask, num_features \u001b[39m=\u001b[39m label(binary_mask, structure\u001b[39m=\u001b[39;49mnp\u001b[39m.\u001b[39;49mones((\u001b[39m3\u001b[39;49m,\u001b[39m3\u001b[39;49m,\u001b[39m3\u001b[39;49m)))\n\u001b[1;32m      5\u001b[0m \u001b[39mif\u001b[39;00m (\u001b[39mnot\u001b[39;00m num_features \u001b[39m==\u001b[39m \u001b[39m1\u001b[39m):\n\u001b[1;32m      6\u001b[0m   \u001b[39m# Multiple components found. Check for splits/patches\u001b[39;00m\n\u001b[1;32m      7\u001b[0m   \u001b[39mprint\u001b[39m(\u001b[39m\"\u001b[39m\u001b[39mIncorrect segmentation detected for segment id = \u001b[39m\u001b[39m\"\u001b[39m, segment_id, \u001b[39m\"\u001b[39m\u001b[39m volume = \u001b[39m\u001b[39m\"\u001b[39m, segment_volume, \u001b[39m\"\u001b[39m\u001b[39m num_features = \u001b[39m\u001b[39m\"\u001b[39m, num_features)\n",
      "File \u001b[0;32m~/.conda/envs/gpu_torch/lib/python3.8/site-packages/scipy/ndimage/_measurements.py:220\u001b[0m, in \u001b[0;36mlabel\u001b[0;34m(input, structure, output)\u001b[0m\n\u001b[1;32m    217\u001b[0m         \u001b[39mreturn\u001b[39;00m output, maxlabel\n\u001b[1;32m    219\u001b[0m \u001b[39mtry\u001b[39;00m:\n\u001b[0;32m--> 220\u001b[0m     max_label \u001b[39m=\u001b[39m _ni_label\u001b[39m.\u001b[39;49m_label(\u001b[39minput\u001b[39;49m, structure, output)\n\u001b[1;32m    221\u001b[0m \u001b[39mexcept\u001b[39;00m _ni_label\u001b[39m.\u001b[39mNeedMoreBits \u001b[39mas\u001b[39;00m e:\n\u001b[1;32m    222\u001b[0m     \u001b[39m# Make another attempt with enough bits, then try to cast to the\u001b[39;00m\n\u001b[1;32m    223\u001b[0m     \u001b[39m# new type.\u001b[39;00m\n\u001b[1;32m    224\u001b[0m     tmp_output \u001b[39m=\u001b[39m np\u001b[39m.\u001b[39mempty(\u001b[39minput\u001b[39m\u001b[39m.\u001b[39mshape, np\u001b[39m.\u001b[39mintp \u001b[39mif\u001b[39;00m need_64bits \u001b[39melse\u001b[39;00m np\u001b[39m.\u001b[39mint32)\n",
      "\u001b[0;31mKeyboardInterrupt\u001b[0m: "
     ]
    }
   ],
   "source": [
    "clean_neuron_ids = cleanup_segmentation_image(neuron_ids, 100, 0.1)"
   ]
  },
  {
   "cell_type": "code",
   "execution_count": 29,
   "metadata": {},
   "outputs": [
    {
     "name": "stdout",
     "output_type": "stream",
     "text": [
      "Layer Sums:  [4961 4316 3818 3426 2973 2565 2243 1817 1548 1165 1497 1710 2007 2110\n",
      " 2246 2321 2915 2640 2542 2822 2735 2718 2180 2111 2826 2838 3013 3376\n",
      " 3281 3207 3387 3555 3514 3335 3001 3311 3693 3866 3755 3661 3447 3151\n",
      " 3140 3151 2383 1782 1175 1152  763  635  384  150   69   47    0    0\n",
      "    0    0    0    0    0    0    0    0    0    0    0    0    0    0\n",
      "    0    0    0    0    0    0    0    0    0    0    0    0    0    0\n",
      "    0  145  465  901 1170 1251 1339 1194 1074 1320 1210 1270 1429 1614\n",
      " 1822 1911 1984 2028 2148 1841 1654 1760 1850 2024 1948 1988 2154 2493\n",
      " 2974 2822 2600 2312 2206 2273 2938 3253 3187 2841 2821 3028 2985]\n",
      "Layer with largest cross sectional area:  0\n"
     ]
    },
    {
     "data": {
      "image/png": "[encoded data removed]",
      "text/plain": [
       "<Figure size 640x480 with 1 Axes>"
      ]
     },
     "metadata": {},
     "output_type": "display_data"
    }
   ],
   "source": []
  },
  {
   "cell_type": "code",
   "execution_count": 15,
   "metadata": {},
   "outputs": [
    {
     "name": "stdout",
     "output_type": "stream",
     "text": [
      "158157    \n",
      "\n",
      "158157    \n",
      "\n",
      "157158    "
     ]
    },
    {
     "name": "stdout",
     "output_type": "stream",
     "text": [
      "\n",
      "\n",
      "[0, 1, 4, 9, 16, 25]\n"
     ]
    }
   ],
   "source": [
    "def f(x):\n",
    "    created = multiprocessing.Process()\n",
    "    current = multiprocessing.current_process()\n",
    "    # print ('running:', current.name, current._identity)\n",
    "    print (current._identity[0], \" \")\n",
    "    \n",
    "    # print ('created:', created.name, created._identity)\n",
    "    return x * x\n",
    "\n",
    "p = multiprocessing.Pool(2)\n",
    "print (p.map(f, range(6)))"
   ]
  },
  {
   "cell_type": "code",
   "execution_count": 8,
   "metadata": {},
   "outputs": [],
   "source": [
    "\n",
    "def init_pool(img, vol_threshold, min_fraction_to_split, num_procs):\n",
    "  global p_img\n",
    "  global p_vol_threshold\n",
    "  global p_min_fraction_to_split\n",
    "  global p_num_procs\n",
    "  \n",
    "  p_img = img\n",
    "  p_vol_threshold = vol_threshold\n",
    "  p_min_fraction_to_split = min_fraction_to_split\n",
    "  p_num_procs = num_procs\n",
    "  \n",
    "\n",
    "def parallel_process_segment_wrapper(id):\n",
    "  print(\"instance\", id)\n",
    "  print(\"process id\", multiprocessing.current_process()._identity[0])\n",
    "\n",
    "def parallel_cleanup_segmentation_image(img, vol_threshold, min_fraction_to_split, num_procs):\n",
    "  clean_img = np.zeros(img.shape)\n",
    "  # Eliminate any background pixels\n",
    "  img = np.where(img==(2**64 - 1), 0, img)\n",
    "  # Track current max label for creating new labels if needed\n",
    "  max_label = np.max(img)\n",
    "  (unique, counts) = np.unique(img, return_counts=True)\n",
    "  \n",
    "  pool = multiprocessing.Pool(2, initializer=init_pool, initargs=(img, vol_threshold, min_fraction_to_split, num_procs))\n",
    "  \n",
    "  task_list = list(zip(unique,counts))\n",
    "  pool.map(parallel_process_segment_wrapper, task_list[:10])\n",
    "  \n",
    "  # for i in tqdm(range(len(unique))):\n",
    "  #   # Ignore background segments. Can be splintered\n",
    "  #   if (unique[i] == 0):\n",
    "  #     continue\n",
    "  #   # Process segment only if above threshold\n",
    "  #   if (counts[i] >= vol_threshold):\n",
    "  #     mask, max_label = process_segment(img, unique[i], counts[i], min_fraction_to_split, max_label)\n",
    "  #     clean_img += mask\n",
    "      \n",
    "      \n",
    "  \n",
    "  return clean_img"
   ]
  },
  {
   "cell_type": "code",
   "execution_count": 9,
   "metadata": {},
   "outputs": [],
   "source": [
    "clean_neuron_ids = parallel_cleanup_segmentation_image(neuron_ids, 100, 0.1, 1)"
   ]
  },
  {
   "cell_type": "code",
   "execution_count": null,
   "metadata": {},
   "outputs": [],
   "source": []
  }
 ],
 "metadata": {
  "kernelspec": {
   "display_name": "gpu_torch",
   "language": "python",
   "name": "python3"
  },
  "language_info": {
   "codemirror_mode": {
    "name": "ipython",
    "version": 3
   },
   "file_extension": ".py",
   "mimetype": "text/x-python",
   "name": "python",
   "nbconvert_exporter": "python",
   "pygments_lexer": "ipython3",
   "version": "3.8.16"
  },
  "orig_nbformat": 4
 },
 "nbformat": 4,
 "nbformat_minor": 2
}
