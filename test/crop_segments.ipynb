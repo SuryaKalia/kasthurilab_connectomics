{
 "cells": [
  {
   "cell_type": "code",
   "execution_count": 1,
   "metadata": {},
   "outputs": [],
   "source": [
    "%load_ext autoreload\n",
    "%autoreload 2\n",
    "\n",
    "import os\n",
    "import sys\n",
    "import numpy as np\n",
    "import pickle\n",
    "import lzma\n",
    "sys.path.insert(0, os.path.abspath('/home/suryakalia/documents/summer/exploration/kasthurilab_connectomics/'))\n",
    "# Need to add above path since VSCode Jupyter Notebook doesn't respect system's $PYTHONPATH variable\n",
    "# This will be eliminated once my module is converted to a conda package and installed to the conda env"
   ]
  },
  {
   "cell_type": "code",
   "execution_count": 2,
   "metadata": {},
   "outputs": [],
   "source": [
    "from sk_connectomics.core.dilate_overlap import DilateOverlap"
   ]
  },
  {
   "cell_type": "code",
   "execution_count": 3,
   "metadata": {},
   "outputs": [],
   "source": [
    "dilator = DilateOverlap(cremi_file_path=\"/home/suryakalia/documents/summer/datasets/cremi/sample_A_20160501.hdf\",\n",
    "                        output_dir=\"/scratch/midway3/suryakalia/outputs/cremi_A_crops\",\n",
    "                        dilation_voxel_count=1,\n",
    "                        voxel_volume_threshold=50)"
   ]
  },
  {
   "cell_type": "code",
   "execution_count": 4,
   "metadata": {},
   "outputs": [],
   "source": [
    "dilator.blacklist_append([20474])"
   ]
  },
  {
   "cell_type": "code",
   "execution_count": 5,
   "metadata": {},
   "outputs": [
    {
     "name": "stdout",
     "output_type": "stream",
     "text": [
      "Z layer num: 0\n",
      "Z layer num: 1\n",
      "Z layer num: 2\n",
      "Z layer num: 3\n",
      "Z layer num: 4\n",
      "Z layer num: 5\n",
      "Z layer num: 6\n",
      "Z layer num: 7\n",
      "Z layer num: 8\n",
      "Z layer num: 9\n",
      "Trimming invalid segments\n",
      "Cropping out bounding boxes\n",
      "Successfully created  1129  segment corps\n"
     ]
    }
   ],
   "source": [
    "dilator.run()"
   ]
  },
  {
   "cell_type": "code",
   "execution_count": 13,
   "metadata": {},
   "outputs": [
    {
     "name": "stdout",
     "output_type": "stream",
     "text": [
      "Trimming invalid segments\n"
     ]
    },
    {
     "ename": "KeyError",
     "evalue": "885",
     "output_type": "error",
     "traceback": [
      "\u001b[0;31m---------------------------------------------------------------------------\u001b[0m",
      "\u001b[0;31mKeyError\u001b[0m                                  Traceback (most recent call last)",
      "Cell \u001b[0;32mIn[13], line 1\u001b[0m\n\u001b[0;32m----> 1\u001b[0m dilator\u001b[39m.\u001b[39;49mtrim_invalid_segments()\n",
      "File \u001b[0;32m~/documents/summer/exploration/kasthurilab_connectomics/sk_connectomics/core/dilate_overlap.py:87\u001b[0m, in \u001b[0;36mDilateOverlap.trim_invalid_segments\u001b[0;34m(self)\u001b[0m\n\u001b[1;32m     85\u001b[0m \u001b[39mif\u001b[39;00m (\u001b[39mself\u001b[39m\u001b[39m.\u001b[39msegment_volume_map[segmentID] \u001b[39m<\u001b[39m \u001b[39mself\u001b[39m\u001b[39m.\u001b[39mvoxel_volume_threshold):\n\u001b[1;32m     86\u001b[0m   \u001b[39mdel\u001b[39;00m \u001b[39mself\u001b[39m\u001b[39m.\u001b[39msegment_volume_map[segmentID] \n\u001b[0;32m---> 87\u001b[0m   \u001b[39mdel\u001b[39;00m \u001b[39mself\u001b[39m\u001b[39m.\u001b[39mminCoordMap[segmentID]\n\u001b[1;32m     88\u001b[0m   \u001b[39mdel\u001b[39;00m \u001b[39mself\u001b[39m\u001b[39m.\u001b[39mmaxCoordMap[segmentID]\n",
      "\u001b[0;31mKeyError\u001b[0m: 885"
     ]
    }
   ],
   "source": [
    "dilator.trim_invalid_segments()"
   ]
  },
  {
   "cell_type": "code",
   "execution_count": null,
   "metadata": {},
   "outputs": [],
   "source": [
    "dilator.crop_out_bounding_boxes()"
   ]
  },
  {
   "cell_type": "code",
   "execution_count": 10,
   "metadata": {},
   "outputs": [
    {
     "data": {
      "text/plain": [
       "[20474]"
      ]
     },
     "execution_count": 10,
     "metadata": {},
     "output_type": "execute_result"
    }
   ],
   "source": [
    "dilator.segment_black_list"
   ]
  },
  {
   "cell_type": "code",
   "execution_count": 12,
   "metadata": {},
   "outputs": [
    {
     "data": {
      "text/plain": [
       "49"
      ]
     },
     "execution_count": 12,
     "metadata": {},
     "output_type": "execute_result"
    }
   ],
   "source": [
    "dilator.segment_volume_map[136939]"
   ]
  },
  {
   "cell_type": "code",
   "execution_count": 14,
   "metadata": {},
   "outputs": [],
   "source": [
    "with lzma.open(\"/scratch/midway3/suryakalia/outputs/cremi_A_crops/crops/1128_187690.xz\", \"rb\") as f:\n",
    "  mask = pickle.load(f)"
   ]
  },
  {
   "cell_type": "code",
   "execution_count": 15,
   "metadata": {},
   "outputs": [
    {
     "data": {
      "text/plain": [
       "(3, 11, 10)"
      ]
     },
     "execution_count": 15,
     "metadata": {},
     "output_type": "execute_result"
    }
   ],
   "source": [
    "mask.shape"
   ]
  },
  {
   "cell_type": "code",
   "execution_count": 16,
   "metadata": {},
   "outputs": [
    {
     "name": "stdout",
     "output_type": "stream",
     "text": [
      "[[0 1 1 1 1 0 0 0 0 0]\n",
      " [1 1 1 1 1 1 0 0 0 0]\n",
      " [1 1 1 1 1 1 1 1 0 0]\n",
      " [0 1 1 1 1 1 1 1 1 0]\n",
      " [0 1 1 1 1 1 1 1 1 1]\n",
      " [0 1 1 1 1 1 1 1 1 1]\n",
      " [0 1 1 1 1 1 1 1 1 1]\n",
      " [0 1 1 1 1 1 1 1 1 0]\n",
      " [0 1 1 1 1 1 1 1 0 0]\n",
      " [0 1 1 1 1 1 1 0 0 0]\n",
      " [0 0 1 1 1 0 0 0 0 0]]\n"
     ]
    }
   ],
   "source": [
    "print(mask[1,:, :])"
   ]
  },
  {
   "cell_type": "code",
   "execution_count": 9,
   "metadata": {},
   "outputs": [],
   "source": [
    "from scipy import ndimage"
   ]
  },
  {
   "cell_type": "code",
   "execution_count": 13,
   "metadata": {},
   "outputs": [
    {
     "name": "stdout",
     "output_type": "stream",
     "text": [
      "[[0 0 0 0 0 0 0 0 0 0]\n",
      " [0 1 1 1 1 0 0 0 0 0]\n",
      " [0 1 1 1 1 1 0 0 0 0]\n",
      " [0 0 1 1 1 1 1 1 0 0]\n",
      " [0 0 1 1 1 1 1 1 1 0]\n",
      " [0 0 1 1 1 1 1 1 1 0]\n",
      " [0 0 1 1 1 1 1 1 1 0]\n",
      " [0 0 1 1 1 1 1 1 0 0]\n",
      " [0 0 1 1 1 1 1 0 0 0]\n",
      " [0 0 1 1 1 0 0 0 0 0]\n",
      " [0 0 0 0 0 0 0 0 0 0]]\n"
     ]
    }
   ],
   "source": [
    "dilated_mask = ndimage.binary_dilation(mask).astype(mask.dtype)\n",
    "print(dilated_mask[0,:,:])"
   ]
  }
 ],
 "metadata": {
  "kernelspec": {
   "display_name": "gpu_torch",
   "language": "python",
   "name": "python3"
  },
  "language_info": {
   "codemirror_mode": {
    "name": "ipython",
    "version": 3
   },
   "file_extension": ".py",
   "mimetype": "text/x-python",
   "name": "python",
   "nbconvert_exporter": "python",
   "pygments_lexer": "ipython3",
   "version": "3.8.16"
  },
  "orig_nbformat": 4
 },
 "nbformat": 4,
 "nbformat_minor": 2
}
