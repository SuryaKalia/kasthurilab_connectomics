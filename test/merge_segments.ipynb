{
 "cells": [
  {
   "cell_type": "code",
   "execution_count": 1,
   "metadata": {},
   "outputs": [],
   "source": [
    "%load_ext autoreload\n",
    "%autoreload 2\n",
    "\n",
    "import os\n",
    "import sys\n",
    "import numpy as np\n",
    "import pickle\n",
    "import lzma\n",
    "import matplotlib.pyplot as plt\n",
    "sys.path.insert(0, os.path.abspath('/home/suryakalia/documents/summer/exploration/kasthurilab_connectomics/'))\n",
    "# Need to add above path since VSCode Jupyter Notebook doesn't respect system's $PYTHONPATH variable\n",
    "# This will be eliminated once my module is converted to a conda package and installed to the conda env"
   ]
  },
  {
   "cell_type": "code",
   "execution_count": 2,
   "metadata": {},
   "outputs": [],
   "source": [
    "from sk_connectomics.core.dilate_overlap import DilateOverlap"
   ]
  },
  {
   "cell_type": "code",
   "execution_count": 8,
   "metadata": {},
   "outputs": [],
   "source": [
    "# dilator = DilateOverlap(cremi_file_path=\"/home/suryakalia/documents/summer/datasets/cremi/sample_A_20160501.hdf\",\n",
    "#                         output_dir=\"/scratch/midway3/suryakalia/outputs/cremi_A_crops\",\n",
    "#                         dilation_voxel_count=1,\n",
    "#                         voxel_volume_threshold=50)\n",
    "\n",
    "dilator = DilateOverlap(cremi_file_path=\"/home/suryakalia/documents/summer/datasets/cremi/sample_A_20160501.hdf\",\n",
    "                        output_dir=\"/home/suryakalia/documents/summer/tests/cremi_A_crops\",\n",
    "                        dilation_voxel_count=1,\n",
    "                        voxel_volume_threshold=50)"
   ]
  },
  {
   "cell_type": "code",
   "execution_count": 4,
   "metadata": {},
   "outputs": [],
   "source": [
    "dilator.blacklist_append([20474])"
   ]
  },
  {
   "cell_type": "code",
   "execution_count": 5,
   "metadata": {},
   "outputs": [
    {
     "name": "stdout",
     "output_type": "stream",
     "text": [
      "Number of crops read =  8795\n",
      "Calculating segment overlaps\n"
     ]
    },
    {
     "name": "stderr",
     "output_type": "stream",
     "text": [
      "100%|██████████| 8794/8794 [01:08<00:00, 128.76it/s] "
     ]
    },
    {
     "name": "stdout",
     "output_type": "stream",
     "text": [
      "Num overlap instances =  140756\n"
     ]
    },
    {
     "name": "stderr",
     "output_type": "stream",
     "text": [
      "\n"
     ]
    }
   ],
   "source": [
    "dilator.find_overlaping_segments()"
   ]
  },
  {
   "cell_type": "code",
   "execution_count": null,
   "metadata": {},
   "outputs": [],
   "source": [
    "dilator.overlap_all_segments()"
   ]
  },
  {
   "cell_type": "code",
   "execution_count": 9,
   "metadata": {},
   "outputs": [
    {
     "name": "stdout",
     "output_type": "stream",
     "text": [
      "Merging all overlapping segemnts into a common image\n"
     ]
    },
    {
     "name": "stderr",
     "output_type": "stream",
     "text": [
      "100%|██████████| 140756/140756 [02:08<00:00, 1097.90it/s]\n"
     ]
    }
   ],
   "source": [
    "dilator.construct_full_overlap_mask()"
   ]
  }
 ],
 "metadata": {
  "kernelspec": {
   "display_name": "gpu_torch",
   "language": "python",
   "name": "python3"
  },
  "language_info": {
   "codemirror_mode": {
    "name": "ipython",
    "version": 3
   },
   "file_extension": ".py",
   "mimetype": "text/x-python",
   "name": "python",
   "nbconvert_exporter": "python",
   "pygments_lexer": "ipython3",
   "version": "3.8.16"
  },
  "orig_nbformat": 4
 },
 "nbformat": 4,
 "nbformat_minor": 2
}
